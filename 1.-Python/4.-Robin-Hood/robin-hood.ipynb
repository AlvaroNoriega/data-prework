{
 "cells": [
  {
   "cell_type": "markdown",
   "metadata": {},
   "source": [
    "<img src=\"https://bit.ly/2VnXWr2\" width=\"100\" align=\"left\"/>"
   ]
  },
  {
   "cell_type": "markdown",
   "metadata": {},
   "source": [
    "# Robin Hood\n",
    "Robin Hood has entered a competition to win the archery contest in Sherwood. With his bow and arrows, he needs to shoot on a target and try to hit as close as possible to the center.\n",
    "\n",
    "![](images/arrows.jpg)\n",
    "\n",
    "## Context\n",
    "In this challenge, the landing position of arrows shot by archers in the competition will be represented using 2-dimensional coordinates. \n",
    "\n",
    "In the 2-dimensional space, a point can be defined by a pair of values that correspond to the horizontal coordinate (x) and the vertical coordinate (y). For example, in our case, an arrow that hits the center of the archery target will land in position (0, 0) on the coordinate axes. \n",
    "\n",
    "The space can be divided into 4 zones (quadrants): Q1, Q2, Q3, Q4. If a point is in Q1, both its x coordinate and y coordinate are positive. Any point with a null x or y coordinate is considered to not belong to any quadrant. \n",
    "\n",
    "If you want to know more about the cartesian coordinate system, you can check this [link](https://en.wikipedia.org/wiki/Cartesian_coordinate_system). \n",
    "\n",
    "## Tools\n",
    "You don't necessarily need to use all the tools. Maybe you opt to use some of them or completely different ones, they are given to help you shape the exercise. Programming exercises can be solved in many different ways.\n",
    "* Data structures: **lists, sets, tuples**\n",
    "* Conditional statements: **if-elif-else**\n",
    "* Loop: **while/for**\n",
    "* Minimum (optional sorting)\n",
    "\n",
    "## Tasks\n",
    "Robin Hood has hit the following points:"
   ]
  },
  {
   "cell_type": "code",
   "execution_count": 1,
   "metadata": {},
   "outputs": [],
   "source": [
    "points = [(4, 5), (-0, 2), (4, 7), (1, -3), (3, -2), (4, 5), (3, 2), (5, 7), (-5, 7), (2, 2), (-4, 5), (0, -2),\n",
    "          (-4, 7), (-1, 3), (-3, 2), (-4, -5), (-3, 2), (5, 7), (5, 7), (2, 2), (9, 9), (-8, -9)]"
   ]
  },
  {
   "cell_type": "markdown",
   "metadata": {},
   "source": [
    "#### 1. Robin Hood is famous for hitting an arrow with another arrow. Find the coordinates of the points where an arrow hits another arrow."
   ]
  },
  {
   "cell_type": "code",
   "execution_count": 2,
   "metadata": {},
   "outputs": [
    {
     "name": "stdout",
     "output_type": "stream",
     "text": [
      "The coordinates of the points where an arrow hits another arrow are {(4, 5), (5, 7), (-3, 2), (2, 2)}\n"
     ]
    }
   ],
   "source": [
    "points = [(4, 5), (-0, 2), (4, 7), (1, -3), (3, -2), (4, 5), (3, 2), (5, 7), (-5, 7), (2, 2), (-4, 5), (0, -2),\n",
    "          (-4, 7), (-1, 3), (-3, 2), (-4, -5), (-3, 2), (5, 7), (5, 7), (2, 2), (9, 9), (-8, -9)]\n",
    "\n",
    "print (\"The coordinates of the points where an arrow hits another arrow are\", set([x for x in points if points.count(x) >= 2]))\n",
    "\n"
   ]
  },
  {
   "cell_type": "markdown",
   "metadata": {},
   "source": [
    "#### 2. Calculate how many arrows have fallen in each quadrant. \n",
    "**Note**: the arrows that fall in the axis (x=0 or y=0) don't belong to any quadrant."
   ]
  },
  {
   "cell_type": "markdown",
   "metadata": {},
   "source": [
    "#### 3. Find the point closest to the center. Calculate its distance to the center. \n",
    "Take into account that there might be more than one point at the minimum distance to the center.\n",
    "\n",
    "**Hint**: Use the Euclidean distance. You can find more information about it [here](https://en.wikipedia.org/wiki/Euclidean_distance).  \n",
    "**Hint**: Defining a function that calculates the distance to the center can help."
   ]
  },
  {
   "cell_type": "code",
   "execution_count": 10,
   "metadata": {},
   "outputs": [
    {
     "name": "stdout",
     "output_type": "stream",
     "text": [
      "Arrow # 1 -- X_ 1 = 5 Y_ 1 = 4 quadrant # 1 while the distance to the center is 6.4031242374328485\n",
      "Arrow # 2 -- X_ 2 = 2 Y_ 2 = 0 quadrant # 1 while the distance to the center is 2.0\n",
      "Arrow # 3 -- X_ 3 = 7 Y_ 3 = 4 quadrant # 1 while the distance to the center is 8.06225774829855\n",
      "Arrow # 4 -- X_ 4 = -3 Y_ 4 = 1 quadrant # 3 while the distance to the center is 3.1622776601683795\n",
      "Arrow # 5 -- X_ 5 = -2 Y_ 5 = 3 quadrant # 3 while the distance to the center is 3.605551275463989\n",
      "Arrow # 6 -- X_ 6 = 5 Y_ 6 = 4 quadrant # 1 while the distance to the center is 6.4031242374328485\n",
      "Arrow # 7 -- X_ 7 = 2 Y_ 7 = 3 quadrant # 1 while the distance to the center is 3.605551275463989\n",
      "Arrow # 8 -- X_ 8 = 7 Y_ 8 = 5 quadrant # 1 while the distance to the center is 8.602325267042627\n",
      "Arrow # 9 -- X_ 9 = 7 Y_ 9 = -5 quadrant # 2 while the distance to the center is 8.602325267042627\n",
      "Arrow # 10 -- X_ 10 = 2 Y_ 10 = 2 quadrant # 1 while the distance to the center is 2.8284271247461903\n",
      "Arrow # 11 -- X_ 11 = 5 Y_ 11 = -4 quadrant # 2 while the distance to the center is 6.4031242374328485\n",
      "Arrow # 12 -- X_ 12 = -2 Y_ 12 = 0 quadrant # 2 while the distance to the center is 2.0\n",
      "Arrow # 13 -- X_ 13 = 7 Y_ 13 = -4 quadrant # 2 while the distance to the center is 8.06225774829855\n",
      "Arrow # 14 -- X_ 14 = 3 Y_ 14 = -1 quadrant # 2 while the distance to the center is 3.1622776601683795\n",
      "Arrow # 15 -- X_ 15 = 2 Y_ 15 = -3 quadrant # 2 while the distance to the center is 3.605551275463989\n",
      "Arrow # 16 -- X_ 16 = -5 Y_ 16 = -4 quadrant # 4 while the distance to the center is 6.4031242374328485\n",
      "Arrow # 17 -- X_ 17 = 2 Y_ 17 = -3 quadrant # 2 while the distance to the center is 3.605551275463989\n",
      "Arrow # 18 -- X_ 18 = 7 Y_ 18 = 5 quadrant # 1 while the distance to the center is 8.602325267042627\n",
      "Arrow # 19 -- X_ 19 = 7 Y_ 19 = 5 quadrant # 1 while the distance to the center is 8.602325267042627\n",
      "Arrow # 20 -- X_ 20 = 2 Y_ 20 = 2 quadrant # 1 while the distance to the center is 2.8284271247461903\n",
      "Arrow # 21 -- X_ 21 = 9 Y_ 21 = 9 quadrant # 1 while the distance to the center is 12.727922061357855\n",
      "Arrow # 22 -- X_ 22 = -9 Y_ 22 = -8 quadrant # 4 while the distance to the center is 12.041594578792296\n",
      "There are  10  arrows in the first quadrant\n",
      "There are  6  arrows in the second quadrant\n",
      "There are  2  arrows in the third quadrant\n",
      "There are  2  arrows in the fourth quadrant\n",
      "There are  11  arrows in the X axis\n",
      "There are  0  arrows in the Y axis\n"
     ]
    }
   ],
   "source": [
    "\n",
    "q1=0\n",
    "q2=0\n",
    "q3=0\n",
    "q4=0\n",
    "\n",
    "\n",
    "for i in range(0,len(list_points)):\n",
    "    arrow_i = list_points[i]\n",
    "    for j in range(0,len(arrow_i)):\n",
    "        if j%2 != 0:\n",
    "            x_i = arrow_i[j]\n",
    "        else:\n",
    "            y_i = arrow_i[j]\n",
    "    d_i = (x_i**2 + y_i**2)**(1/2)\n",
    "    \n",
    "    if (x_i > 0):\n",
    "        if(y_i > 0):\n",
    "            q1= q1+1\n",
    "            q=1\n",
    "        elif (y_i <0):\n",
    "            q2=q2+1\n",
    "            q=2\n",
    "        else:\n",
    "            axis_x = axis_x +1\n",
    "    elif x_i < 0:\n",
    "        if(y_i > 0):\n",
    "            q3= q3+1\n",
    "            q=3\n",
    "        elif(y_i < 0):\n",
    "            q4=q4+1\n",
    "            q=4\n",
    "        else:\n",
    "            axis_x = axis_x +1\n",
    "    else:\n",
    "        y_axis = y_axis +1\n",
    " \n",
    "    print(\"Arrow #\",i+1,\"-- X_\",i+1,\"=\",x_i,\"Y_\",i+1,\"=\",y_i,\"quadrant #\",q, \"while the distance to the center is\",d_i)\n",
    "print(\"There are \",q1,\" arrows in the first quadrant\")\n",
    "print(\"There are \",q2,\" arrows in the second quadrant\")\n",
    "print(\"There are \",q3,\" arrows in the third quadrant\")\n",
    "print(\"There are \",q4,\" arrows in the fourth quadrant\")\n",
    "print(\"There are \",axis_x,\" arrows in the X axis\")\n",
    "print(\"There are \",axis_y,\" arrows in the Y axis\")"
   ]
  },
  {
   "cell_type": "code",
   "execution_count": null,
   "metadata": {},
   "outputs": [],
   "source": []
  },
  {
   "cell_type": "markdown",
   "metadata": {},
   "source": [
    "#### 4. If the archery target has a radius of 9, calculate the number of arrows that won't hit the target. \n",
    "**Hint**: Use the function created in step 3. "
   ]
  },
  {
   "cell_type": "code",
   "execution_count": null,
   "metadata": {},
   "outputs": [],
   "source": []
  }
 ],
 "metadata": {
  "kernelspec": {
   "display_name": "Python 3",
   "language": "python",
   "name": "python3"
  },
  "language_info": {
   "codemirror_mode": {
    "name": "ipython",
    "version": 3
   },
   "file_extension": ".py",
   "mimetype": "text/x-python",
   "name": "python",
   "nbconvert_exporter": "python",
   "pygments_lexer": "ipython3",
   "version": "3.7.6"
  }
 },
 "nbformat": 4,
 "nbformat_minor": 2
}
